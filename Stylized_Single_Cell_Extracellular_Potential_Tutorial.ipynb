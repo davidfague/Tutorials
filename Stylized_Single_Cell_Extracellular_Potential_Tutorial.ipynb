{
  "cells": [
    {
      "cell_type": "markdown",
      "metadata": {
        "id": "view-in-github",
        "colab_type": "text"
      },
      "source": [
        "<a href=\"https://colab.research.google.com/github/davidfague/Tutorials/blob/main/Stylized_Single_Cell_Extracellular_Potential_Tutorial.ipynb\" target=\"_parent\"><img src=\"https://colab.research.google.com/assets/colab-badge.svg\" alt=\"Open In Colab\"/></a>"
      ]
    },
    {
      "cell_type": "markdown",
      "id": "7a9de89f",
      "metadata": {
        "id": "7a9de89f"
      },
      "source": [
        "# Stylized Single Cell and Extracellular Potential"
      ]
    },
    {
      "cell_type": "markdown",
      "id": "MSX7LmGzszzf",
      "metadata": {
        "id": "MSX7LmGzszzf"
      },
      "source": [
        "#### Download modules from Github"
      ]
    },
    {
      "cell_type": "code",
      "execution_count": 1,
      "id": "Daok1-uas1Q8",
      "metadata": {
        "id": "Daok1-uas1Q8",
        "outputId": "bff8a2f0-89df-45a5-e5a2-3e4fb6290684",
        "colab": {
          "base_uri": "https://localhost:8080/"
        }
      },
      "outputs": [
        {
          "output_type": "stream",
          "name": "stdout",
          "text": [
            "\u001b[0m\u001b[01;34mcell_inference\u001b[0m/  Stylized_Single_Cell_Extracellular_Potential_Tutorial.ipynb\n"
          ]
        }
      ],
      "source": [
        "import os\n",
        "\n",
        "RunningInCOLAB = 'google.colab' in str(get_ipython())\n",
        "if RunningInCOLAB:\n",
        "    !pip install neuron==8.0.0 &> /dev/null\n",
        "    os.chdir('/content')\n",
        "    if not os.path.isdir('Stylized-Single-Cell-and-Extracellular-Potential'):\n",
        "        !git clone https://github.com/chenziao/Stylized-Single-Cell-and-Extracellular-Potential.git &> /dev/null \n",
        "    os.chdir('Stylized-Single-Cell-and-Extracellular-Potential')\n",
        "    %ls"
      ]
    },
    {
      "cell_type": "markdown",
      "id": "2a84fbea",
      "metadata": {
        "id": "2a84fbea"
      },
      "source": [
        "## Setup smiulation parameters"
      ]
    },
    {
      "cell_type": "code",
      "execution_count": 2,
      "id": "4be7f6fd",
      "metadata": {
        "id": "4be7f6fd",
        "outputId": "3a8959e5-7aeb-4f1f-efc8-b0588ece14db",
        "colab": {
          "base_uri": "https://localhost:8080/"
        }
      },
      "outputs": [
        {
          "output_type": "stream",
          "name": "stdout",
          "text": [
            "0\n"
          ]
        }
      ],
      "source": [
        "import numpy as np\n",
        "import pandas as pd\n",
        "import json\n",
        "import matplotlib.pyplot as plt\n",
        "import ipywidgets as widgets\n",
        "from neuron import h\n",
        "from scipy import signal\n",
        "from IPython.display import display, clear_output\n",
        "from ipywidgets import interactive_output, HBox, VBox, Label, Layout\n",
        "from cell_inference.config import params, paths\n",
        "from cell_inference.cells.activecell_axon import ReducedOrderL5Cell, ReducedOrderL5CellPassiveDendrite\n",
        "from cell_inference.utils.currents.ecp import EcpMod\n",
        "from cell_inference.utils.currents.recorder import Recorder\n",
        "from cell_inference.utils.plotting.plot_morphology import plot_morphology\n",
        "from cell_inference.utils.plotting.plot_results import plot_lfp_heatmap, plot_lfp_traces\n",
        "from cell_inference.utils.plotting.plot_variable_with_morphology import plot_variable_with_morphology\n",
        "from cell_inference.utils.metrics.measure_segment_distance import measure_segment_distance\n",
        "\n",
        "%matplotlib inline\n",
        "\n",
        "if RunningInCOLAB:\n",
        "    os.chdir(paths.COMPILED_REDUCED_ORDER)\n",
        "    print(os.system('nrnivmodl'))\n",
        "    os.chdir(os.path.join(paths.ROOT_DIR, '..'))\n",
        "\n",
        "h.load_file('stdrun.hoc')\n",
        "h.nrn_load_dll(paths.COMPILED_LIBRARY_REDUCED_ORDER)  # choose the set of mechanisms\n",
        "\n",
        "h.dt = params.DT  # time step\n",
        "h.steps_per_ms = 1/h.dt\n",
        "h.tstop = params.TSTOP  # simulation stop time"
      ]
    },
    {
      "cell_type": "markdown",
      "id": "7927a07b",
      "metadata": {
        "id": "7927a07b"
      },
      "source": [
        "### Create a cell with stylized morphology and passive dendrites"
      ]
    },
    {
      "cell_type": "code",
      "execution_count": 3,
      "id": "18a97eeb",
      "metadata": {
        "id": "18a97eeb"
      },
      "outputs": [],
      "source": [
        "# Load biophysical parameters from a json file\n",
        "filepath = os.path.join(paths.RESOURCES_ROOT, 'biophys_parameters/ReducedOrderL5_passive.json')\n",
        "with open(filepath) as f:\n",
        "    biophys_param = json.load(f)\n",
        "for genome in biophys_param['genome']:\n",
        "    if genome['value'] != \"\": genome['value'] = float(genome['value'])\n",
        "\n",
        "# Load morphology parameters from a csv file\n",
        "geometry = pd.read_csv(paths.GEO_REDUCED_ORDER, index_col='id')\n",
        "\n",
        "# Create a cell object\n",
        "cell = ReducedOrderL5CellPassiveDendrite(geometry=geometry, full_biophys=biophys_param)\n",
        "\n",
        "# Create synaptic input\n",
        "stim = h.NetStim()\n",
        "stim.number = 1  # only one event\n",
        "stim.start = 2.0  # delay (ms)\n",
        "gmax = 0.02  # default synapse maximum conductance (uS)\n",
        "# Add synapse to soma\n",
        "cell.add_synapse(stim, sec_index=0, gmax=gmax)\n",
        "# Add synapse to apical tufts\n",
        "for i in cell.grp_ids[5]:\n",
        "    cell.add_synapse(stim, sec_index=i, gmax=gmax / cell._nbranch)\n",
        "\n",
        "# Record time points\n",
        "t_vec = h.Vector(round(h.tstop / h.dt) + 1).record(h._ref_t)\n",
        "# Record membrane voltage of all segments\n",
        "V_rec = Recorder(cell.segments)"
      ]
    },
    {
      "cell_type": "markdown",
      "id": "22d6f6e6",
      "metadata": {
        "id": "22d6f6e6"
      },
      "source": [
        "### Add electrodes (Neuropixel)\n",
        "A probe with 384 electrodes [https://www.neuropixels.org/probe](https://www.neuropixels.org/probe). The coordinates of each electrode is a row in the array printed below."
      ]
    },
    {
      "cell_type": "code",
      "execution_count": 4,
      "id": "8fdb0017",
      "metadata": {
        "colab": {
          "base_uri": "https://localhost:8080/"
        },
        "id": "8fdb0017",
        "outputId": "58524d72-c921-421b-8999-8c126400921f"
      },
      "outputs": [
        {
          "output_type": "stream",
          "name": "stdout",
          "text": [
            "(384, 3)\n",
            "[[   -8. -1910.     0.]\n",
            " [   24. -1910.     0.]\n",
            " [  -24. -1890.     0.]\n",
            " ...\n",
            " [   24.  1890.     0.]\n",
            " [  -24.  1910.     0.]\n",
            " [    8.  1910.     0.]]\n"
          ]
        }
      ],
      "source": [
        "elec_pos = params.ELECTRODE_POSITION\n",
        "ecp = EcpMod(cell, elec_pos, min_distance=params.MIN_DISTANCE)  # create an ECP object for extracellular potential\n",
        "\n",
        "# coordinates (x, y, z) of electrodes\n",
        "print(params.ELECTRODE_POSITION.shape)\n",
        "print(params.ELECTRODE_POSITION)"
      ]
    },
    {
      "cell_type": "markdown",
      "id": "c5323608",
      "metadata": {
        "id": "c5323608"
      },
      "source": [
        "## Custom settings\n",
        "\n",
        "Using the interactive tools below, you can change the position of the cell, and change the synapse strength and location on the cell.\n",
        "\n",
        "#### Cell position parameters (x, y, z, alpha, h, phi)\n",
        "Starting with soma at the origin, apical dendrite along y-axis, rotate and translate the cell to the desired position determined by 6 parameters. First, rotate alpha about the y-axis (spin), then rotate beta=arccos(h) about the x-axis (elevation), then rotate phi about the y-axis (azimuth). Finally translate the cell by (x,y,z).\n",
        "\n",
        "Use the sliders to change the 6 position parameters. Use the sliders 'elev' and 'azim' to change view of the 3D plot."
      ]
    },
    {
      "cell_type": "code",
      "execution_count": 5,
      "id": "a3df63ce",
      "metadata": {
        "id": "a3df63ce",
        "outputId": "5d96805b-4452-4c8d-98a8-11c2f70ca38a",
        "colab": {
          "base_uri": "https://localhost:8080/",
          "height": 626,
          "referenced_widgets": [
            "3569e826b4924949b5a9f3d4d6624839",
            "669338565f7f437fb3bc994988f17e9d",
            "38bed4a8a9de43deb53e3cb054b21201",
            "5a4092625b69463aaf54e627aaa5d5ca",
            "e8045fb46665429a95c0ca51baac7659",
            "c85157cf5071440fa281dcf3e6c85c78",
            "5dfa16f8bb394a5c83763c28d01b328e",
            "5f9866b8de1d4ec1aae7c22e5f6412c4",
            "82a11654a5284669ac5dd3e656bb0709",
            "80b60463633341ab8a2c3fe324cac8cd",
            "9d71876d7ced400e8e60cf8fbfd11575",
            "d33623907b0d48baa389561fad588662",
            "2dfc685584b74ff98afbca50432fd80e",
            "729d8f3cbd7e4865bab25e2a682e5e5e",
            "17604499489a430d8efae4e70a9cc07e",
            "60957d74ef724900b33f762af7b3bbeb",
            "e7326b67fdd241e1a5452478415fa4b5",
            "fa83e44316b740779686d9fc7dc5aa28",
            "7b8629ab32244bdfb5df0ca617e93d1e",
            "bcbe8db5f8ca403a8e5657880864cfcb",
            "87ea3980b8bf4430b77c436809f1380b",
            "270711e5de794731a63b2c4c978c804d",
            "b8795d37bc754176b64d89fb071fbb94",
            "71daa75c54f241e8b8e544fd6f936d23",
            "a23c2c6b52c7458a8b7026c82a1196cc",
            "e72b75d0fe7f426cb62be24bfa42fb4e",
            "eb619f9722444772a36fd9529d100300",
            "978ebb15301248b59ed639018c26e798",
            "b2dca5d482094548bc9e3710378b664f",
            "167ccaf738694576a57acaa4ce37c951",
            "bd1882bc6f374c7ea5ed4b949b89cd1c",
            "3831588afac24432bd8d910df09739d5",
            "63edcae020714bc9ad562f0db7648084",
            "1d17398598fc4e7ba36bcd7a95c963b3",
            "1282ab08eb9847569f983907c1888f41",
            "6831e2a3b09249af8a7026de754ea5b8",
            "40365ba0e89b4c35a16517a4c16b3ae8",
            "f6ba65d596b14a53af36fca186e10b42",
            "c54d2428b6d048389cfaf373dc3737ce",
            "eb86e75a204f44ff97267e788bd4ab4a",
            "df9109838c7b43618c675e315923f355"
          ]
        }
      },
      "outputs": [
        {
          "output_type": "display_data",
          "data": {
            "text/plain": [
              "VBox(children=(Button(button_style='primary', description='Reset', icon='history', style=ButtonStyle()), HBox(…"
            ],
            "application/vnd.jupyter.widget-view+json": {
              "version_major": 2,
              "version_minor": 0,
              "model_id": "3569e826b4924949b5a9f3d4d6624839"
            }
          },
          "metadata": {}
        }
      ],
      "source": [
        "loc_param_default = [0., 0., 80., 0., 1., 0.]  # Default position parameters\n",
        "elev, azim = 10, -70  # Default view\n",
        "clr = ['g', 'yellow', 'orange', 'red', 'b', 'c', 'g', 'yellow', 'orange', 'red', 'pink', 'purple']  # section color\n",
        "\n",
        "def interactive_plot(x, y, z, alpha, beta, phi, elev, azim):\n",
        "    global loc_param\n",
        "    loc_param = (x, y, z, np.pi/180*alpha, np.cos(np.pi/180*beta), np.pi/180*phi)\n",
        "    fig, ax = plot_morphology(cell=cell, electrodes=elec_pos, move_cell=loc_param,\n",
        "                    elev=-elev, azim=-azim, figsize=(12, 8), clr = clr)\n",
        "    plt.show()\n",
        "\n",
        "xslider = Layout(width='500px')\n",
        "yslider = Layout(height='350px')\n",
        "w_reset = widgets.Button(description='Reset', icon='history', button_style='primary')\n",
        "w_x = widgets.FloatSlider(value=loc_param_default[0], min=-200, max=200, step=1, description='x (um)', continuous_update=False, readout_format='.0f')\n",
        "w_y = widgets.FloatSlider(value=loc_param_default[1], min=-1000, max=1000, step=1, description='y (um)', continuous_update=False, readout_format='.0f')\n",
        "w_z = widgets.FloatSlider(value=loc_param_default[2], min=20, max=400, step=1, description='z (um)', continuous_update=False, readout_format='.0f')\n",
        "w_alpha = widgets.FloatSlider(value=180/np.pi*loc_param_default[3], min=-180, max=180, step=1, description='alpha (deg)', continuous_update=False, readout_format='.0f')\n",
        "w_beta = widgets.FloatSlider(value=180/np.pi*np.arccos(loc_param_default[4]), min=0, max=180, step=1, description='beta (deg)', continuous_update=False, readout_format='.0f')\n",
        "w_phi = widgets.FloatSlider(value=180/np.pi*loc_param_default[5], min=-180, max=180, step=1, description='phi (deg)', continuous_update=False, readout_format='.0f')\n",
        "w_elev = widgets.FloatSlider(value=-elev, min=-90, max=90, step=1, description='elev (deg)', continuous_update=False, readout_format='.0f', orientation='vertical', layout=yslider)\n",
        "w_azim = widgets.FloatSlider(value=-azim, min=-180, max=180, step=1, description='azim (deg)', continuous_update=False, readout_format='.0f', layout=xslider)\n",
        "\n",
        "def reset_default(*args):\n",
        "    w_x.value, w_y.value, w_z.value = loc_param_default[:3]\n",
        "    w_alpha.value = 180 / np.pi * loc_param_default[3]\n",
        "    w_beta.value = 180 / np.pi * np.arccos(loc_param_default[4])\n",
        "    w_phi.value = 180 / np.pi * loc_param_default[5]\n",
        "    w_elev.value, w_azim.value = -elev, -azim\n",
        "w_reset.on_click(reset_default)\n",
        "\n",
        "out = interactive_output(interactive_plot, {'x': w_x, 'y': w_y, 'z': w_z, 'alpha': w_alpha, 'beta': w_beta, 'phi': w_phi, 'elev': w_elev, 'azim': w_azim})\n",
        "ui = VBox([ w_reset, HBox([ VBox([w_x, w_y, w_z]), VBox([w_alpha, w_beta, w_phi]) ]), HBox([ VBox([out, w_azim]), w_elev]) ])\n",
        "\n",
        "display(ui)"
      ]
    },
    {
      "cell_type": "markdown",
      "id": "0d582310",
      "metadata": {
        "id": "0d582310"
      },
      "source": [
        "#### Set synaptic input\n",
        "\n",
        "Use the toggle button to switch synapse location between the soma and the proximal apical tuft dendrite. Use the slider 'Synapse maximal conductance' to change synapse strength."
      ]
    },
    {
      "cell_type": "code",
      "execution_count": 6,
      "id": "ce8d1856",
      "metadata": {
        "id": "ce8d1856",
        "outputId": "3bd0448c-d970-4525-e504-70129c30ba2a",
        "colab": {
          "base_uri": "https://localhost:8080/",
          "height": 82,
          "referenced_widgets": [
            "47d8a2a2259a429a89a7ce56228c2b3f",
            "e824c207ad6f4581a29bfb1fec2a8566",
            "f13abed3cdca43c0af0873746d744461",
            "7b6950126bf14bbc93a6c92b4711fdbe",
            "fdd7e496674c44f99ddfbff5593be44b",
            "4ef043b1be92464b8503eea60e088722",
            "e0b7e0e57146413cb561d42c7bbec7e4",
            "5dbdd8f9ed914e7f84bd1a1db3c9b123",
            "9d88c1c5f924443d91ac1eea3d45a2b0",
            "097b4e4b7a8545a7bfb8c8696aa952e7",
            "4855d2d63d1a4b128409559266b75036",
            "3b9b1d71671046a8871678a50cdf3396",
            "2719887646ee487591d00d7181aae560"
          ]
        }
      },
      "outputs": [
        {
          "output_type": "display_data",
          "data": {
            "text/plain": [
              "VBox(children=(ToggleButtons(options=('Soma', 'Apical tuft (proximal)'), value='Soma'), HBox(children=(Label(v…"
            ],
            "application/vnd.jupyter.widget-view+json": {
              "version_major": 2,
              "version_minor": 0,
              "model_id": "47d8a2a2259a429a89a7ce56228c2b3f"
            }
          },
          "metadata": {}
        }
      ],
      "source": [
        "w_syn_site = widgets.ToggleButtons(options=['Soma', 'Apical tuft (proximal)'])\n",
        "w_gmax = widgets.FloatSlider(value=gmax, min=0, max=0.1, step=0.0002, readout_format='.4f')\n",
        "display(VBox([w_syn_site, HBox([Label('Synapse maximal conductance (uS)'), w_gmax])]))\n",
        "\n",
        "def set_synapse():\n",
        "    soma_syn = w_syn_site.value == 'Soma'\n",
        "    gmax_soma = w_gmax.value if soma_syn else 0\n",
        "    gmax_tuft = 0 if soma_syn else w_gmax.value / cell._nbranch\n",
        "    cell.synapse[0].set_gmax(gmax_soma)\n",
        "    for syn in cell.synapse[1:]:\n",
        "        syn.set_gmax(gmax_tuft)"
      ]
    },
    {
      "cell_type": "markdown",
      "id": "2ca15375",
      "metadata": {
        "id": "2ca15375"
      },
      "source": [
        "## Run simulation and plot results\n",
        "\n",
        "Run the codes below to simulate and display results everytime after you change the parameters above."
      ]
    },
    {
      "cell_type": "code",
      "execution_count": 7,
      "id": "f81ec874",
      "metadata": {
        "colab": {
          "base_uri": "https://localhost:8080/",
          "height": 963
        },
        "id": "f81ec874",
        "outputId": "6f60cd95-6abd-418d-beaa-2443fe46e606"
      },
      "outputs": [
        {
          "output_type": "display_data",
          "data": {
            "text/plain": [
              "<Figure size 720x288 with 1 Axes>"
            ],
            "image/png": "[encoded data removed]"
          },
          "metadata": {
            "needs_background": "light"
          }
        },
        {
          "output_type": "display_data",
          "data": {
            "text/plain": [
              "<Figure size 576x360 with 2 Axes>"
            ],
            "image/png": "[encoded data removed]"
          },
          "metadata": {
            "needs_background": "light"
          }
        },
        {
          "output_type": "display_data",
          "data": {
            "text/plain": [
              "<Figure size 576x360 with 2 Axes>"
            ],
            "image/png": "[encoded data removed]"
          },
          "metadata": {
            "needs_background": "light"
          }
        }
      ],
      "source": [
        "# Run simulation\n",
        "set_synapse()\n",
        "h.run()\n",
        "# Get results\n",
        "t = t_vec.as_numpy().copy()  # time array (ms)\n",
        "# soma membrane potential\n",
        "Vm = V_rec.as_numpy()\n",
        "v_soma = Vm[cell.sec_id_in_seg[cell.grp_ids[0][0]]]\n",
        "v_tfut = Vm[cell.sec_id_in_seg[cell.grp_ids[5][0]]]\n",
        "# lfp array\n",
        "lfp = ecp.calc_ecp(move_cell=loc_param).T  # unit: mV\n",
        "\n",
        "# Soma membrane potential\n",
        "plt.figure(figsize=(10, 4))\n",
        "plt.plot(t, v_soma, label='Soma')\n",
        "plt.plot(t, v_tfut, label='Tuft')\n",
        "plt.ylabel('Membrane potential (mV)')\n",
        "plt.xlabel('time (ms)')\n",
        "plt.xlim(t[[0, -1]])\n",
        "plt.legend()\n",
        "\n",
        "# Extracellular potential along y-axis\n",
        "y_window = [-1200, 1200]  # select range of y coordinate for plotting\n",
        "ylim = loc_param[1] + np.array(y_window)  # set range of y coordinate\n",
        "max_idx = np.argmax(np.amax(np.abs(lfp), axis=0))  # find the electrode that records maximum magnitude\n",
        "x_dist = elec_pos[max_idx, 0]  # x coordinate of the maximum magnitude electrode\n",
        "e_idx = (elec_pos[:, 0]==x_dist) & (elec_pos[:, 1]>=ylim[0]) & (elec_pos[:, 1]<=ylim[1])  # selected electrode indices\n",
        "\n",
        "fontsize = 15\n",
        "labelpad = -10\n",
        "ticksize = 12\n",
        "tick_length = 5\n",
        "nbins = 5\n",
        "plt.figure(figsize=(8, 5))\n",
        "_ = plot_lfp_heatmap(t=t, elec_d=elec_pos[e_idx, 1], lfp=lfp[:, e_idx],\n",
        "                     fontsize=fontsize, labelpad=labelpad, ticksize=ticksize, tick_length=tick_length,\n",
        "                     nbins=nbins, vlim='auto', axes=plt.gca())\n",
        "plt.title('Extracellular potential heatmap')\n",
        "plt.figure(figsize=(8, 5))\n",
        "_ = plot_lfp_traces(t, lfp[:, e_idx][:,1::3], electrodes=elec_pos[e_idx][1::3],\n",
        "                    fontsize=fontsize, labelpad=labelpad, ticksize=ticksize, tick_length=tick_length,\n",
        "                    nbins=nbins, axes=plt.gca())\n",
        "plt.title('Extracellular potential timecourse')\n",
        "\n",
        "plt.show()"
      ]
    },
    {
      "cell_type": "markdown",
      "id": "5c3e3e52",
      "metadata": {
        "id": "5c3e3e52"
      },
      "source": [
        "## Electrotonic distance\n",
        "\n",
        "Neuron has a tool for electrotonic analysis [https://www.neuron.yale.edu/neuron/static/docs/zclass/zclass.html](https://www.neuron.yale.edu/neuron/static/docs/zclass/zclass.html). It computes the electrotonic distance defined by attenuation, but the classical definition is [anatomical distance/length constant](https://www.neuron.yale.edu/neuron/static/docs/zclass/NIPS94/nipsfin.html).\n",
        "\n",
        "The plot below shows the membrane potential timecourse at several locations on the cell. The electrotonic distance computed by Neuron of each location is also shown with both number and color. The distance should always be a positive value, but it is labeled negative for the basal dendrites and the axon intentionally so that it can be easily distinguished from the apical dendrites."
      ]
    },
    {
      "cell_type": "code",
      "execution_count": 8,
      "id": "729a65ff",
      "metadata": {
        "id": "729a65ff",
        "outputId": "81dfb5ac-7fed-4f2a-f4aa-230cd82fb542",
        "colab": {
          "base_uri": "https://localhost:8080/",
          "height": 729
        }
      },
      "outputs": [
        {
          "output_type": "display_data",
          "data": {
            "text/plain": [
              "<Figure size 720x720 with 4 Axes>"
            ],
            "image/png": "[encoded data removed]"
          },
          "metadata": {
            "needs_background": "light"
          }
        }
      ],
      "source": [
        "for syn in cell.synapse:\n",
        "    syn.set_gmax(0)\n",
        "h.run()\n",
        "\n",
        "sec_type_swc = {sec['name']: sec['type'] for _, sec in geometry.iterrows()}\n",
        "sec_type = [sec_type_swc[sec.name().split('.')[-1]] for sec in cell.all]\n",
        "freq = 0 # Hz\n",
        "seg_prop, _, _ = measure_segment_distance(cell.soma , cell.all, sec_type, freq)\n",
        "\n",
        "select_seg = [[cell.sec_id_in_seg[sec[0]], cell.get_sec_by_id(sec[0]).nseg -1] for sec in cell.sec_id_lookup.values()]\n",
        "select_seg = np.sum(np.array(select_seg), axis=1)\n",
        "# select_seg = np.unique(np.cumsum(np.array(select_seg), axis=1).ravel())\n",
        "_ = plot_variable_with_morphology(cell.seg_coords, seg_prop, Vm, t=t, axes=['x', 'y'],\n",
        "                                  distance_type='elec_dist', n_dist=300,\n",
        "                                  select_seg=select_seg, max_per_dist=1, varname='Membrane potential (mV)',\n",
        "                                  space=2., normalized_space=True, sort_by_dist=True,\n",
        "                                  figsize=(10, 10), fontsize=15, scalebar_size=50)"
      ]
    },
    {
      "cell_type": "markdown",
      "source": [
        "##Transfer Impedance\n",
        "\n"
      ],
      "metadata": {
        "id": "Tc1fFLPUz5Qe"
      },
      "id": "Tc1fFLPUz5Qe"
    },
    {
      "cell_type": "code",
      "execution_count": 16,
      "id": "be859ed7",
      "metadata": {
        "id": "be859ed7"
      },
      "outputs": [],
      "source": [
        "import numpy as np\n",
        "from neuron import h\n",
        "import cmath\n",
        "\n",
        "def measure_segment_transfer_impedance(soma, section_list, sec_type, freq=0, extracellular_mechanism=True):\n",
        "    \"\"\"\n",
        "    soma: soma section object\n",
        "    section_list: list of sections\n",
        "    sec_type: list of swc type id of sections\n",
        "    freq: frequency (Hz) at which electrotonic distance is evaluated\n",
        "    extracellular_mechanism: whether extracellular mechanism is used\n",
        "    \"\"\"\n",
        "    seg_prop = {}\n",
        "    swc_type = []\n",
        "    seg_area = []\n",
        "    seg_dist = []\n",
        "    seg_length = []\n",
        "    elec_dist = [] #modulus part of polar form #should change names\n",
        "    elec_dist0 = [] #modulus of polar form #should change names\n",
        "    transfer_imps = [] #real part of rectangular form\n",
        "    transfer_imps0 = [] # real part of rectangular form\n",
        "\n",
        "    # set up distance origin\n",
        "    h.distance(0, soma(.5))\n",
        "    # set up electrotonic origin\n",
        "    zz = h.Impedance()\n",
        "    zz.loc(soma(.5))\n",
        "    if extracellular_mechanism:\n",
        "        zz.compute(freq + 1 / 9e9, 0) #*\n",
        "    else:\n",
        "        zz.compute(freq, 1)\n",
        "    # measure distance\n",
        "    for i, sec in enumerate(section_list):\n",
        "        if sec_type[i]==1:\n",
        "            transfer_imp=zz.transfer(sec(0.5/sec.nseg)) #*\n",
        "            transfer_phase=zz.transfer_phase(sec(0.5/sec.nseg)) #*\n",
        "            elec_dist0.append(transfer_imp) #*\n",
        "            rect_complex=cmath.rect(transfer_imp,transfer_phase)\n",
        "            transfer_imps.append(rect_complex.real) #*\n",
        "        else:\n",
        "            transfer_imp=zz.transfer(sec.parentseg()) #*\n",
        "            transfer_phase=zz.transfer_phase(sec.parentseg()) #*\n",
        "            elec_dist0.append(transfer_imp) #*\n",
        "            rect_complex=cmath.rect(transfer_imp, transfer_phase) #*\n",
        "            transfer_imps.append(rect_complex.real) #*\n",
        "        for j, seg in enumerate(sec):\n",
        "            swc_type.append(sec_type[i])\n",
        "            seg_area.append(seg.area())\n",
        "            seg_dist.append(h.distance(seg))\n",
        "            seg_length.append(sec.L/sec.nseg)\n",
        "            if j!=0:\n",
        "                elec_dist0.append(elec_dist[-1])\n",
        "                transfer_imps.append(transfer_imps0[-1])\n",
        "            elec_dist.append(zz.transfer(seg)) #*\n",
        "            transfer_imp=zz.transfer(seg) #*\n",
        "            transfer_phase=zz.transfer_phase(seg) #*\n",
        "            rect_complex=cmath.rect(transfer_imp,transfer_phase) #*\n",
        "            transfer_imps0.append(rect_complex.real) #*\n",
        "\n",
        "    seg_prop['swc_type'] = np.array(swc_type)\n",
        "    seg_prop['seg_area'] = np.array(seg_area)\n",
        "\n",
        "    # distance at endpoints of each segment\n",
        "    seg_prop['distance'] = np.expand_dims(seg_dist, 1) + np.expand_dims(seg_length, 1) / 2 * np.array([[-1, 1]])\n",
        "    # seg_prop['transfer_imp'] = np.sort(np.log(elec_dist0[0]) - np.log(np.column_stack([elec_dist0, elec_dist])), axis=1) #*\n",
        "    seg_prop['transfer_imp_mod'] = np.sort(elec_dist0[0] - np.column_stack([elec_dist0, elec_dist]), axis=1) #*\n",
        "    seg_prop['transfer_imp_real'] = np.sort(transfer_imps[0] - np.column_stack([transfer_imps, transfer_imps0]), axis=1) #*\n",
        "\n",
        "\n",
        "    # change sign of basal and axon types\n",
        "    idx = np.nonzero((seg_prop['swc_type']==2) | (seg_prop['swc_type']==3))[0]\n",
        "    seg_prop['distance'][idx] = -seg_prop['distance'][idx,::-1]\n",
        "    seg_prop['transfer_imp_mod'][idx] = -seg_prop['transfer_imp_mod'][idx,::-1] #*\n",
        "    seg_prop['transfer_imp_real'][idx] = -seg_prop['transfer_imp_real'][idx,::-1] #*\n",
        "    return seg_prop, zz.transfer(soma(.5)), zz.transfer_phase(soma(.5))\n"
      ]
    },
    {
      "cell_type": "code",
      "source": [
        "#using modulus of polar form\n",
        "\n",
        "for syn in cell.synapse:\n",
        "    syn.set_gmax(0)\n",
        "h.run()\n",
        "\n",
        "sec_type_swc = {sec['name']: sec['type'] for _, sec in geometry.iterrows()}\n",
        "sec_type = [sec_type_swc[sec.name().split('.')[-1]] for sec in cell.all]\n",
        "freq = 0 # Hz\n",
        "seg_prop, _, _ = measure_segment_transfer_impedance(cell.soma , cell.all, sec_type, freq)\n",
        "\n",
        "select_seg = [[cell.sec_id_in_seg[sec[0]], cell.get_sec_by_id(sec[0]).nseg -1] for sec in cell.sec_id_lookup.values()]\n",
        "select_seg = np.sum(np.array(select_seg), axis=1)\n",
        "# select_seg = np.unique(np.cumsum(np.array(select_seg), axis=1).ravel())\n",
        "_ = plot_variable_with_morphology(cell.seg_coords, seg_prop, Vm, t=t, axes=['x', 'y'],\n",
        "                                  distance_type='transfer_imp_mod', n_dist=300,\n",
        "                                  select_seg=select_seg, max_per_dist=1, varname='Membrane potential (mV)',\n",
        "                                  space=2., normalized_space=True, sort_by_dist=True,\n",
        "                                  figsize=(10, 10), fontsize=15, scalebar_size=50)"
      ],
      "metadata": {
        "id": "yHRymM0L5pJj",
        "outputId": "f62d3ea3-a758-425b-98ba-b05e3659e7e2",
        "colab": {
          "base_uri": "https://localhost:8080/",
          "height": 729
        }
      },
      "id": "yHRymM0L5pJj",
      "execution_count": 18,
      "outputs": [
        {
          "output_type": "display_data",
          "data": {
            "text/plain": [
              "<Figure size 720x720 with 4 Axes>"
            ],
            "image/png": "[encoded data removed]"
          },
          "metadata": {
            "needs_background": "light"
          }
        }
      ]
    },
    {
      "cell_type": "code",
      "source": [
        "#using real part of rectangular complex form\n",
        "\n",
        "for syn in cell.synapse:\n",
        "    syn.set_gmax(0)\n",
        "h.run()\n",
        "\n",
        "sec_type_swc = {sec['name']: sec['type'] for _, sec in geometry.iterrows()}\n",
        "sec_type = [sec_type_swc[sec.name().split('.')[-1]] for sec in cell.all]\n",
        "freq = 0 # Hz\n",
        "seg_prop, _, _ = measure_segment_transfer_impedance(cell.soma , cell.all, sec_type, freq)\n",
        "\n",
        "select_seg = [[cell.sec_id_in_seg[sec[0]], cell.get_sec_by_id(sec[0]).nseg -1] for sec in cell.sec_id_lookup.values()]\n",
        "select_seg = np.sum(np.array(select_seg), axis=1)\n",
        "# select_seg = np.unique(np.cumsum(np.array(select_seg), axis=1).ravel())\n",
        "_ = plot_variable_with_morphology(cell.seg_coords, seg_prop, Vm, t=t, axes=['x', 'y'],\n",
        "                                  distance_type='transfer_imp_real', n_dist=300,\n",
        "                                  select_seg=select_seg, max_per_dist=1, varname='Membrane potential (mV)',\n",
        "                                  space=2., normalized_space=True, sort_by_dist=True,\n",
        "                                  figsize=(10, 10), fontsize=15, scalebar_size=50)"
      ],
      "metadata": {
        "colab": {
          "base_uri": "https://localhost:8080/",
          "height": 729
        },
        "id": "Ibbz1qMIjWu5",
        "outputId": "424a9229-3317-4ed1-afad-fc73e68c23e1"
      },
      "id": "Ibbz1qMIjWu5",
      "execution_count": 19,
      "outputs": [
        {
          "output_type": "display_data",
          "data": {
            "text/plain": [
              "<Figure size 720x720 with 4 Axes>"
            ],
            "image/png": "[encoded data removed]"
          },
          "metadata": {
            "needs_background": "light"
          }
        }
      ]
    },
    {
      "cell_type": "markdown",
      "source": [
        "Transfer Impedance is a complex number"
      ],
      "metadata": {
        "id": "2eSHPclEP0I0"
      },
      "id": "2eSHPclEP0I0"
    },
    {
      "cell_type": "code",
      "source": [
        "polar_modulus=1\n",
        "polar_phase=3\n",
        "\n",
        "complex_rectangular_form=cmath.rect(polar_modulus, polar_phase)\n",
        "print(complex_rectangular_form)"
      ],
      "metadata": {
        "id": "PM8Xa3WATASj",
        "outputId": "f78f2cc1-299d-4ba9-fc64-23708cd26191",
        "colab": {
          "base_uri": "https://localhost:8080/"
        }
      },
      "id": "PM8Xa3WATASj",
      "execution_count": 11,
      "outputs": [
        {
          "output_type": "stream",
          "name": "stdout",
          "text": [
            "(-0.9899924966004454+0.1411200080598672j)\n"
          ]
        }
      ]
    },
    {
      "cell_type": "code",
      "source": [
        "complex_rectangular_form.real"
      ],
      "metadata": {
        "id": "BZgkMzBpTLgL",
        "outputId": "60e42266-08ff-4698-9b0f-17aa7c34d7cb",
        "colab": {
          "base_uri": "https://localhost:8080/"
        }
      },
      "id": "BZgkMzBpTLgL",
      "execution_count": 12,
      "outputs": [
        {
          "output_type": "execute_result",
          "data": {
            "text/plain": [
              "-0.9899924966004454"
            ]
          },
          "metadata": {},
          "execution_count": 12
        }
      ]
    }
  ],
  "metadata": {
    "colab": {
      "provenance": [],
      "include_colab_link": true
    },
    "kernelspec": {
      "display_name": "Python 3 (ipykernel)",
      "language": "python",
      "name": "python3"
    },
    "language_info": {
      "codemirror_mode": {
        "name": "ipython",
        "version": 3
      },
      "file_extension": ".py",
      "mimetype": "text/x-python",
      "name": "python",
      "nbconvert_exporter": "python",
      "pygments_lexer": "ipython3",
      "version": "3.9.12"
    },
    "widgets": {
      "application/vnd.jupyter.widget-state+json": {
        "3569e826b4924949b5a9f3d4d6624839": {
          "model_module": "@jupyter-widgets/controls",
          "model_name": "VBoxModel",
          "model_module_version": "1.5.0",
          "state": {
            "_dom_classes": [],
            "_model_module": "@jupyter-widgets/controls",
            "_model_module_version": "1.5.0",
            "_model_name": "VBoxModel",
            "_view_count": null,
            "_view_module": "@jupyter-widgets/controls",
            "_view_module_version": "1.5.0",
            "_view_name": "VBoxView",
            "box_style": "",
            "children": [
              "IPY_MODEL_669338565f7f437fb3bc994988f17e9d",
              "IPY_MODEL_38bed4a8a9de43deb53e3cb054b21201",
              "IPY_MODEL_5a4092625b69463aaf54e627aaa5d5ca"
            ],
            "layout": "IPY_MODEL_e8045fb46665429a95c0ca51baac7659"
          }
        },
        "669338565f7f437fb3bc994988f17e9d": {
          "model_module": "@jupyter-widgets/controls",
          "model_name": "ButtonModel",
          "model_module_version": "1.5.0",
          "state": {
            "_dom_classes": [],
            "_model_module": "@jupyter-widgets/controls",
            "_model_module_version": "1.5.0",
            "_model_name": "ButtonModel",
            "_view_count": null,
            "_view_module": "@jupyter-widgets/controls",
            "_view_module_version": "1.5.0",
            "_view_name": "ButtonView",
            "button_style": "primary",
            "description": "Reset",
            "disabled": false,
            "icon": "history",
            "layout": "IPY_MODEL_c85157cf5071440fa281dcf3e6c85c78",
            "style": "IPY_MODEL_5dfa16f8bb394a5c83763c28d01b328e",
            "tooltip": ""
          }
        },
        "38bed4a8a9de43deb53e3cb054b21201": {
          "model_module": "@jupyter-widgets/controls",
          "model_name": "HBoxModel",
          "model_module_version": "1.5.0",
          "state": {
            "_dom_classes": [],
            "_model_module": "@jupyter-widgets/controls",
            "_model_module_version": "1.5.0",
            "_model_name": "HBoxModel",
            "_view_count": null,
            "_view_module": "@jupyter-widgets/controls",
            "_view_module_version": "1.5.0",
            "_view_name": "HBoxView",
            "box_style": "",
            "children": [
              "IPY_MODEL_5f9866b8de1d4ec1aae7c22e5f6412c4",
              "IPY_MODEL_82a11654a5284669ac5dd3e656bb0709"
            ],
            "layout": "IPY_MODEL_80b60463633341ab8a2c3fe324cac8cd"
          }
        },
        "5a4092625b69463aaf54e627aaa5d5ca": {
          "model_module": "@jupyter-widgets/controls",
          "model_name": "HBoxModel",
          "model_module_version": "1.5.0",
          "state": {
            "_dom_classes": [],
            "_model_module": "@jupyter-widgets/controls",
            "_model_module_version": "1.5.0",
            "_model_name": "HBoxModel",
            "_view_count": null,
            "_view_module": "@jupyter-widgets/controls",
            "_view_module_version": "1.5.0",
            "_view_name": "HBoxView",
            "box_style": "",
            "children": [
              "IPY_MODEL_9d71876d7ced400e8e60cf8fbfd11575",
              "IPY_MODEL_d33623907b0d48baa389561fad588662"
            ],
            "layout": "IPY_MODEL_2dfc685584b74ff98afbca50432fd80e"
          }
        },
        "e8045fb46665429a95c0ca51baac7659": {
          "model_module": "@jupyter-widgets/base",
          "model_name": "LayoutModel",
          "model_module_version": "1.2.0",
          "state": {
            "_model_module": "@jupyter-widgets/base",
            "_model_module_version": "1.2.0",
            "_model_name": "LayoutModel",
            "_view_count": null,
            "_view_module": "@jupyter-widgets/base",
            "_view_module_version": "1.2.0",
            "_view_name": "LayoutView",
            "align_content": null,
            "align_items": null,
            "align_self": null,
            "border": null,
            "bottom": null,
            "display": null,
            "flex": null,
            "flex_flow": null,
            "grid_area": null,
            "grid_auto_columns": null,
            "grid_auto_flow": null,
            "grid_auto_rows": null,
            "grid_column": null,
            "grid_gap": null,
            "grid_row": null,
            "grid_template_areas": null,
            "grid_template_columns": null,
            "grid_template_rows": null,
            "height": null,
            "justify_content": null,
            "justify_items": null,
            "left": null,
            "margin": null,
            "max_height": null,
            "max_width": null,
            "min_height": null,
            "min_width": null,
            "object_fit": null,
            "object_position": null,
            "order": null,
            "overflow": null,
            "overflow_x": null,
            "overflow_y": null,
            "padding": null,
            "right": null,
            "top": null,
            "visibility": null,
            "width": null
          }
        },
        "c85157cf5071440fa281dcf3e6c85c78": {
          "model_module": "@jupyter-widgets/base",
          "model_name": "LayoutModel",
          "model_module_version": "1.2.0",
          "state": {
            "_model_module": "@jupyter-widgets/base",
            "_model_module_version": "1.2.0",
            "_model_name": "LayoutModel",
            "_view_count": null,
            "_view_module": "@jupyter-widgets/base",
            "_view_module_version": "1.2.0",
            "_view_name": "LayoutView",
            "align_content": null,
            "align_items": null,
            "align_self": null,
            "border": null,
            "bottom": null,
            "display": null,
            "flex": null,
            "flex_flow": null,
            "grid_area": null,
            "grid_auto_columns": null,
            "grid_auto_flow": null,
            "grid_auto_rows": null,
            "grid_column": null,
            "grid_gap": null,
            "grid_row": null,
            "grid_template_areas": null,
            "grid_template_columns": null,
            "grid_template_rows": null,
            "height": null,
            "justify_content": null,
            "justify_items": null,
            "left": null,
            "margin": null,
            "max_height": null,
            "max_width": null,
            "min_height": null,
            "min_width": null,
            "object_fit": null,
            "object_position": null,
            "order": null,
            "overflow": null,
            "overflow_x": null,
            "overflow_y": null,
            "padding": null,
            "right": null,
            "top": null,
            "visibility": null,
            "width": null
          }
        },
        "5dfa16f8bb394a5c83763c28d01b328e": {
          "model_module": "@jupyter-widgets/controls",
          "model_name": "ButtonStyleModel",
          "model_module_version": "1.5.0",
          "state": {
            "_model_module": "@jupyter-widgets/controls",
            "_model_module_version": "1.5.0",
            "_model_name": "ButtonStyleModel",
            "_view_count": null,
            "_view_module": "@jupyter-widgets/base",
            "_view_module_version": "1.2.0",
            "_view_name": "StyleView",
            "button_color": null,
            "font_weight": ""
          }
        },
        "5f9866b8de1d4ec1aae7c22e5f6412c4": {
          "model_module": "@jupyter-widgets/controls",
          "model_name": "VBoxModel",
          "model_module_version": "1.5.0",
          "state": {
            "_dom_classes": [],
            "_model_module": "@jupyter-widgets/controls",
            "_model_module_version": "1.5.0",
            "_model_name": "VBoxModel",
            "_view_count": null,
            "_view_module": "@jupyter-widgets/controls",
            "_view_module_version": "1.5.0",
            "_view_name": "VBoxView",
            "box_style": "",
            "children": [
              "IPY_MODEL_729d8f3cbd7e4865bab25e2a682e5e5e",
              "IPY_MODEL_17604499489a430d8efae4e70a9cc07e",
              "IPY_MODEL_60957d74ef724900b33f762af7b3bbeb"
            ],
            "layout": "IPY_MODEL_e7326b67fdd241e1a5452478415fa4b5"
          }
        },
        "82a11654a5284669ac5dd3e656bb0709": {
          "model_module": "@jupyter-widgets/controls",
          "model_name": "VBoxModel",
          "model_module_version": "1.5.0",
          "state": {
            "_dom_classes": [],
            "_model_module": "@jupyter-widgets/controls",
            "_model_module_version": "1.5.0",
            "_model_name": "VBoxModel",
            "_view_count": null,
            "_view_module": "@jupyter-widgets/controls",
            "_view_module_version": "1.5.0",
            "_view_name": "VBoxView",
            "box_style": "",
            "children": [
              "IPY_MODEL_fa83e44316b740779686d9fc7dc5aa28",
              "IPY_MODEL_7b8629ab32244bdfb5df0ca617e93d1e",
              "IPY_MODEL_bcbe8db5f8ca403a8e5657880864cfcb"
            ],
            "layout": "IPY_MODEL_87ea3980b8bf4430b77c436809f1380b"
          }
        },
        "80b60463633341ab8a2c3fe324cac8cd": {
          "model_module": "@jupyter-widgets/base",
          "model_name": "LayoutModel",
          "model_module_version": "1.2.0",
          "state": {
            "_model_module": "@jupyter-widgets/base",
            "_model_module_version": "1.2.0",
            "_model_name": "LayoutModel",
            "_view_count": null,
            "_view_module": "@jupyter-widgets/base",
            "_view_module_version": "1.2.0",
            "_view_name": "LayoutView",
            "align_content": null,
            "align_items": null,
            "align_self": null,
            "border": null,
            "bottom": null,
            "display": null,
            "flex": null,
            "flex_flow": null,
            "grid_area": null,
            "grid_auto_columns": null,
            "grid_auto_flow": null,
            "grid_auto_rows": null,
            "grid_column": null,
            "grid_gap": null,
            "grid_row": null,
            "grid_template_areas": null,
            "grid_template_columns": null,
            "grid_template_rows": null,
            "height": null,
            "justify_content": null,
            "justify_items": null,
            "left": null,
            "margin": null,
            "max_height": null,
            "max_width": null,
            "min_height": null,
            "min_width": null,
            "object_fit": null,
            "object_position": null,
            "order": null,
            "overflow": null,
            "overflow_x": null,
            "overflow_y": null,
            "padding": null,
            "right": null,
            "top": null,
            "visibility": null,
            "width": null
          }
        },
        "9d71876d7ced400e8e60cf8fbfd11575": {
          "model_module": "@jupyter-widgets/controls",
          "model_name": "VBoxModel",
          "model_module_version": "1.5.0",
          "state": {
            "_dom_classes": [],
            "_model_module": "@jupyter-widgets/controls",
            "_model_module_version": "1.5.0",
            "_model_name": "VBoxModel",
            "_view_count": null,
            "_view_module": "@jupyter-widgets/controls",
            "_view_module_version": "1.5.0",
            "_view_name": "VBoxView",
            "box_style": "",
            "children": [
              "IPY_MODEL_270711e5de794731a63b2c4c978c804d",
              "IPY_MODEL_b8795d37bc754176b64d89fb071fbb94"
            ],
            "layout": "IPY_MODEL_71daa75c54f241e8b8e544fd6f936d23"
          }
        },
        "d33623907b0d48baa389561fad588662": {
          "model_module": "@jupyter-widgets/controls",
          "model_name": "FloatSliderModel",
          "model_module_version": "1.5.0",
          "state": {
            "_dom_classes": [],
            "_model_module": "@jupyter-widgets/controls",
            "_model_module_version": "1.5.0",
            "_model_name": "FloatSliderModel",
            "_view_count": null,
            "_view_module": "@jupyter-widgets/controls",
            "_view_module_version": "1.5.0",
            "_view_name": "FloatSliderView",
            "continuous_update": false,
            "description": "elev (deg)",
            "description_tooltip": null,
            "disabled": false,
            "layout": "IPY_MODEL_a23c2c6b52c7458a8b7026c82a1196cc",
            "max": 90,
            "min": -90,
            "orientation": "vertical",
            "readout": true,
            "readout_format": ".0f",
            "step": 1,
            "style": "IPY_MODEL_e72b75d0fe7f426cb62be24bfa42fb4e",
            "value": -10
          }
        },
        "2dfc685584b74ff98afbca50432fd80e": {
          "model_module": "@jupyter-widgets/base",
          "model_name": "LayoutModel",
          "model_module_version": "1.2.0",
          "state": {
            "_model_module": "@jupyter-widgets/base",
            "_model_module_version": "1.2.0",
            "_model_name": "LayoutModel",
            "_view_count": null,
            "_view_module": "@jupyter-widgets/base",
            "_view_module_version": "1.2.0",
            "_view_name": "LayoutView",
            "align_content": null,
            "align_items": null,
            "align_self": null,
            "border": null,
            "bottom": null,
            "display": null,
            "flex": null,
            "flex_flow": null,
            "grid_area": null,
            "grid_auto_columns": null,
            "grid_auto_flow": null,
            "grid_auto_rows": null,
            "grid_column": null,
            "grid_gap": null,
            "grid_row": null,
            "grid_template_areas": null,
            "grid_template_columns": null,
            "grid_template_rows": null,
            "height": null,
            "justify_content": null,
            "justify_items": null,
            "left": null,
            "margin": null,
            "max_height": null,
            "max_width": null,
            "min_height": null,
            "min_width": null,
            "object_fit": null,
            "object_position": null,
            "order": null,
            "overflow": null,
            "overflow_x": null,
            "overflow_y": null,
            "padding": null,
            "right": null,
            "top": null,
            "visibility": null,
            "width": null
          }
        },
        "729d8f3cbd7e4865bab25e2a682e5e5e": {
          "model_module": "@jupyter-widgets/controls",
          "model_name": "FloatSliderModel",
          "model_module_version": "1.5.0",
          "state": {
            "_dom_classes": [],
            "_model_module": "@jupyter-widgets/controls",
            "_model_module_version": "1.5.0",
            "_model_name": "FloatSliderModel",
            "_view_count": null,
            "_view_module": "@jupyter-widgets/controls",
            "_view_module_version": "1.5.0",
            "_view_name": "FloatSliderView",
            "continuous_update": false,
            "description": "x (um)",
            "description_tooltip": null,
            "disabled": false,
            "layout": "IPY_MODEL_eb619f9722444772a36fd9529d100300",
            "max": 200,
            "min": -200,
            "orientation": "horizontal",
            "readout": true,
            "readout_format": ".0f",
            "step": 1,
            "style": "IPY_MODEL_978ebb15301248b59ed639018c26e798",
            "value": 0
          }
        },
        "17604499489a430d8efae4e70a9cc07e": {
          "model_module": "@jupyter-widgets/controls",
          "model_name": "FloatSliderModel",
          "model_module_version": "1.5.0",
          "state": {
            "_dom_classes": [],
            "_model_module": "@jupyter-widgets/controls",
            "_model_module_version": "1.5.0",
            "_model_name": "FloatSliderModel",
            "_view_count": null,
            "_view_module": "@jupyter-widgets/controls",
            "_view_module_version": "1.5.0",
            "_view_name": "FloatSliderView",
            "continuous_update": false,
            "description": "y (um)",
            "description_tooltip": null,
            "disabled": false,
            "layout": "IPY_MODEL_b2dca5d482094548bc9e3710378b664f",
            "max": 1000,
            "min": -1000,
            "orientation": "horizontal",
            "readout": true,
            "readout_format": ".0f",
            "step": 1,
            "style": "IPY_MODEL_167ccaf738694576a57acaa4ce37c951",
            "value": 0
          }
        },
        "60957d74ef724900b33f762af7b3bbeb": {
          "model_module": "@jupyter-widgets/controls",
          "model_name": "FloatSliderModel",
          "model_module_version": "1.5.0",
          "state": {
            "_dom_classes": [],
            "_model_module": "@jupyter-widgets/controls",
            "_model_module_version": "1.5.0",
            "_model_name": "FloatSliderModel",
            "_view_count": null,
            "_view_module": "@jupyter-widgets/controls",
            "_view_module_version": "1.5.0",
            "_view_name": "FloatSliderView",
            "continuous_update": false,
            "description": "z (um)",
            "description_tooltip": null,
            "disabled": false,
            "layout": "IPY_MODEL_bd1882bc6f374c7ea5ed4b949b89cd1c",
            "max": 400,
            "min": 20,
            "orientation": "horizontal",
            "readout": true,
            "readout_format": ".0f",
            "step": 1,
            "style": "IPY_MODEL_3831588afac24432bd8d910df09739d5",
            "value": 80
          }
        },
        "e7326b67fdd241e1a5452478415fa4b5": {
          "model_module": "@jupyter-widgets/base",
          "model_name": "LayoutModel",
          "model_module_version": "1.2.0",
          "state": {
            "_model_module": "@jupyter-widgets/base",
            "_model_module_version": "1.2.0",
            "_model_name": "LayoutModel",
            "_view_count": null,
            "_view_module": "@jupyter-widgets/base",
            "_view_module_version": "1.2.0",
            "_view_name": "LayoutView",
            "align_content": null,
            "align_items": null,
            "align_self": null,
            "border": null,
            "bottom": null,
            "display": null,
            "flex": null,
            "flex_flow": null,
            "grid_area": null,
            "grid_auto_columns": null,
            "grid_auto_flow": null,
            "grid_auto_rows": null,
            "grid_column": null,
            "grid_gap": null,
            "grid_row": null,
            "grid_template_areas": null,
            "grid_template_columns": null,
            "grid_template_rows": null,
            "height": null,
            "justify_content": null,
            "justify_items": null,
            "left": null,
            "margin": null,
            "max_height": null,
            "max_width": null,
            "min_height": null,
            "min_width": null,
            "object_fit": null,
            "object_position": null,
            "order": null,
            "overflow": null,
            "overflow_x": null,
            "overflow_y": null,
            "padding": null,
            "right": null,
            "top": null,
            "visibility": null,
            "width": null
          }
        },
        "fa83e44316b740779686d9fc7dc5aa28": {
          "model_module": "@jupyter-widgets/controls",
          "model_name": "FloatSliderModel",
          "model_module_version": "1.5.0",
          "state": {
            "_dom_classes": [],
            "_model_module": "@jupyter-widgets/controls",
            "_model_module_version": "1.5.0",
            "_model_name": "FloatSliderModel",
            "_view_count": null,
            "_view_module": "@jupyter-widgets/controls",
            "_view_module_version": "1.5.0",
            "_view_name": "FloatSliderView",
            "continuous_update": false,
            "description": "alpha (deg)",
            "description_tooltip": null,
            "disabled": false,
            "layout": "IPY_MODEL_63edcae020714bc9ad562f0db7648084",
            "max": 180,
            "min": -180,
            "orientation": "horizontal",
            "readout": true,
            "readout_format": ".0f",
            "step": 1,
            "style": "IPY_MODEL_1d17398598fc4e7ba36bcd7a95c963b3",
            "value": 0
          }
        },
        "7b8629ab32244bdfb5df0ca617e93d1e": {
          "model_module": "@jupyter-widgets/controls",
          "model_name": "FloatSliderModel",
          "model_module_version": "1.5.0",
          "state": {
            "_dom_classes": [],
            "_model_module": "@jupyter-widgets/controls",
            "_model_module_version": "1.5.0",
            "_model_name": "FloatSliderModel",
            "_view_count": null,
            "_view_module": "@jupyter-widgets/controls",
            "_view_module_version": "1.5.0",
            "_view_name": "FloatSliderView",
            "continuous_update": false,
            "description": "beta (deg)",
            "description_tooltip": null,
            "disabled": false,
            "layout": "IPY_MODEL_1282ab08eb9847569f983907c1888f41",
            "max": 180,
            "min": 0,
            "orientation": "horizontal",
            "readout": true,
            "readout_format": ".0f",
            "step": 1,
            "style": "IPY_MODEL_6831e2a3b09249af8a7026de754ea5b8",
            "value": 0
          }
        },
        "bcbe8db5f8ca403a8e5657880864cfcb": {
          "model_module": "@jupyter-widgets/controls",
          "model_name": "FloatSliderModel",
          "model_module_version": "1.5.0",
          "state": {
            "_dom_classes": [],
            "_model_module": "@jupyter-widgets/controls",
            "_model_module_version": "1.5.0",
            "_model_name": "FloatSliderModel",
            "_view_count": null,
            "_view_module": "@jupyter-widgets/controls",
            "_view_module_version": "1.5.0",
            "_view_name": "FloatSliderView",
            "continuous_update": false,
            "description": "phi (deg)",
            "description_tooltip": null,
            "disabled": false,
            "layout": "IPY_MODEL_40365ba0e89b4c35a16517a4c16b3ae8",
            "max": 180,
            "min": -180,
            "orientation": "horizontal",
            "readout": true,
            "readout_format": ".0f",
            "step": 1,
            "style": "IPY_MODEL_f6ba65d596b14a53af36fca186e10b42",
            "value": 0
          }
        },
        "87ea3980b8bf4430b77c436809f1380b": {
          "model_module": "@jupyter-widgets/base",
          "model_name": "LayoutModel",
          "model_module_version": "1.2.0",
          "state": {
            "_model_module": "@jupyter-widgets/base",
            "_model_module_version": "1.2.0",
            "_model_name": "LayoutModel",
            "_view_count": null,
            "_view_module": "@jupyter-widgets/base",
            "_view_module_version": "1.2.0",
            "_view_name": "LayoutView",
            "align_content": null,
            "align_items": null,
            "align_self": null,
            "border": null,
            "bottom": null,
            "display": null,
            "flex": null,
            "flex_flow": null,
            "grid_area": null,
            "grid_auto_columns": null,
            "grid_auto_flow": null,
            "grid_auto_rows": null,
            "grid_column": null,
            "grid_gap": null,
            "grid_row": null,
            "grid_template_areas": null,
            "grid_template_columns": null,
            "grid_template_rows": null,
            "height": null,
            "justify_content": null,
            "justify_items": null,
            "left": null,
            "margin": null,
            "max_height": null,
            "max_width": null,
            "min_height": null,
            "min_width": null,
            "object_fit": null,
            "object_position": null,
            "order": null,
            "overflow": null,
            "overflow_x": null,
            "overflow_y": null,
            "padding": null,
            "right": null,
            "top": null,
            "visibility": null,
            "width": null
          }
        },
        "270711e5de794731a63b2c4c978c804d": {
          "model_module": "@jupyter-widgets/output",
          "model_name": "OutputModel",
          "model_module_version": "1.0.0",
          "state": {
            "_dom_classes": [],
            "_model_module": "@jupyter-widgets/output",
            "_model_module_version": "1.0.0",
            "_model_name": "OutputModel",
            "_view_count": null,
            "_view_module": "@jupyter-widgets/output",
            "_view_module_version": "1.0.0",
            "_view_name": "OutputView",
            "layout": "IPY_MODEL_df9109838c7b43618c675e315923f355",
            "msg_id": "",
            "outputs": [
              {
                "output_type": "display_data",
                "data": {
                  "text/plain": "<Figure size 864x576 with 1 Axes>",
                  "image/png": "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\n"
                },
                "metadata": {
                  "needs_background": "light"
                }
              }
            ]
          }
        },
        "b8795d37bc754176b64d89fb071fbb94": {
          "model_module": "@jupyter-widgets/controls",
          "model_name": "FloatSliderModel",
          "model_module_version": "1.5.0",
          "state": {
            "_dom_classes": [],
            "_model_module": "@jupyter-widgets/controls",
            "_model_module_version": "1.5.0",
            "_model_name": "FloatSliderModel",
            "_view_count": null,
            "_view_module": "@jupyter-widgets/controls",
            "_view_module_version": "1.5.0",
            "_view_name": "FloatSliderView",
            "continuous_update": false,
            "description": "azim (deg)",
            "description_tooltip": null,
            "disabled": false,
            "layout": "IPY_MODEL_c54d2428b6d048389cfaf373dc3737ce",
            "max": 180,
            "min": -180,
            "orientation": "horizontal",
            "readout": true,
            "readout_format": ".0f",
            "step": 1,
            "style": "IPY_MODEL_eb86e75a204f44ff97267e788bd4ab4a",
            "value": 70
          }
        },
        "71daa75c54f241e8b8e544fd6f936d23": {
          "model_module": "@jupyter-widgets/base",
          "model_name": "LayoutModel",
          "model_module_version": "1.2.0",
          "state": {
            "_model_module": "@jupyter-widgets/base",
            "_model_module_version": "1.2.0",
            "_model_name": "LayoutModel",
            "_view_count": null,
            "_view_module": "@jupyter-widgets/base",
            "_view_module_version": "1.2.0",
            "_view_name": "LayoutView",
            "align_content": null,
            "align_items": null,
            "align_self": null,
            "border": null,
            "bottom": null,
            "display": null,
            "flex": null,
            "flex_flow": null,
            "grid_area": null,
            "grid_auto_columns": null,
            "grid_auto_flow": null,
            "grid_auto_rows": null,
            "grid_column": null,
            "grid_gap": null,
            "grid_row": null,
            "grid_template_areas": null,
            "grid_template_columns": null,
            "grid_template_rows": null,
            "height": null,
            "justify_content": null,
            "justify_items": null,
            "left": null,
            "margin": null,
            "max_height": null,
            "max_width": null,
            "min_height": null,
            "min_width": null,
            "object_fit": null,
            "object_position": null,
            "order": null,
            "overflow": null,
            "overflow_x": null,
            "overflow_y": null,
            "padding": null,
            "right": null,
            "top": null,
            "visibility": null,
            "width": null
          }
        },
        "a23c2c6b52c7458a8b7026c82a1196cc": {
          "model_module": "@jupyter-widgets/base",
          "model_name": "LayoutModel",
          "model_module_version": "1.2.0",
          "state": {
            "_model_module": "@jupyter-widgets/base",
            "_model_module_version": "1.2.0",
            "_model_name": "LayoutModel",
            "_view_count": null,
            "_view_module": "@jupyter-widgets/base",
            "_view_module_version": "1.2.0",
            "_view_name": "LayoutView",
            "align_content": null,
            "align_items": null,
            "align_self": null,
            "border": null,
            "bottom": null,
            "display": null,
            "flex": null,
            "flex_flow": null,
            "grid_area": null,
            "grid_auto_columns": null,
            "grid_auto_flow": null,
            "grid_auto_rows": null,
            "grid_column": null,
            "grid_gap": null,
            "grid_row": null,
            "grid_template_areas": null,
            "grid_template_columns": null,
            "grid_template_rows": null,
            "height": "350px",
            "justify_content": null,
            "justify_items": null,
            "left": null,
            "margin": null,
            "max_height": null,
            "max_width": null,
            "min_height": null,
            "min_width": null,
            "object_fit": null,
            "object_position": null,
            "order": null,
            "overflow": null,
            "overflow_x": null,
            "overflow_y": null,
            "padding": null,
            "right": null,
            "top": null,
            "visibility": null,
            "width": null
          }
        },
        "e72b75d0fe7f426cb62be24bfa42fb4e": {
          "model_module": "@jupyter-widgets/controls",
          "model_name": "SliderStyleModel",
          "model_module_version": "1.5.0",
          "state": {
            "_model_module": "@jupyter-widgets/controls",
            "_model_module_version": "1.5.0",
            "_model_name": "SliderStyleModel",
            "_view_count": null,
            "_view_module": "@jupyter-widgets/base",
            "_view_module_version": "1.2.0",
            "_view_name": "StyleView",
            "description_width": "",
            "handle_color": null
          }
        },
        "eb619f9722444772a36fd9529d100300": {
          "model_module": "@jupyter-widgets/base",
          "model_name": "LayoutModel",
          "model_module_version": "1.2.0",
          "state": {
            "_model_module": "@jupyter-widgets/base",
            "_model_module_version": "1.2.0",
            "_model_name": "LayoutModel",
            "_view_count": null,
            "_view_module": "@jupyter-widgets/base",
            "_view_module_version": "1.2.0",
            "_view_name": "LayoutView",
            "align_content": null,
            "align_items": null,
            "align_self": null,
            "border": null,
            "bottom": null,
            "display": null,
            "flex": null,
            "flex_flow": null,
            "grid_area": null,
            "grid_auto_columns": null,
            "grid_auto_flow": null,
            "grid_auto_rows": null,
            "grid_column": null,
            "grid_gap": null,
            "grid_row": null,
            "grid_template_areas": null,
            "grid_template_columns": null,
            "grid_template_rows": null,
            "height": null,
            "justify_content": null,
            "justify_items": null,
            "left": null,
            "margin": null,
            "max_height": null,
            "max_width": null,
            "min_height": null,
            "min_width": null,
            "object_fit": null,
            "object_position": null,
            "order": null,
            "overflow": null,
            "overflow_x": null,
            "overflow_y": null,
            "padding": null,
            "right": null,
            "top": null,
            "visibility": null,
            "width": null
          }
        },
        "978ebb15301248b59ed639018c26e798": {
          "model_module": "@jupyter-widgets/controls",
          "model_name": "SliderStyleModel",
          "model_module_version": "1.5.0",
          "state": {
            "_model_module": "@jupyter-widgets/controls",
            "_model_module_version": "1.5.0",
            "_model_name": "SliderStyleModel",
            "_view_count": null,
            "_view_module": "@jupyter-widgets/base",
            "_view_module_version": "1.2.0",
            "_view_name": "StyleView",
            "description_width": "",
            "handle_color": null
          }
        },
        "b2dca5d482094548bc9e3710378b664f": {
          "model_module": "@jupyter-widgets/base",
          "model_name": "LayoutModel",
          "model_module_version": "1.2.0",
          "state": {
            "_model_module": "@jupyter-widgets/base",
            "_model_module_version": "1.2.0",
            "_model_name": "LayoutModel",
            "_view_count": null,
            "_view_module": "@jupyter-widgets/base",
            "_view_module_version": "1.2.0",
            "_view_name": "LayoutView",
            "align_content": null,
            "align_items": null,
            "align_self": null,
            "border": null,
            "bottom": null,
            "display": null,
            "flex": null,
            "flex_flow": null,
            "grid_area": null,
            "grid_auto_columns": null,
            "grid_auto_flow": null,
            "grid_auto_rows": null,
            "grid_column": null,
            "grid_gap": null,
            "grid_row": null,
            "grid_template_areas": null,
            "grid_template_columns": null,
            "grid_template_rows": null,
            "height": null,
            "justify_content": null,
            "justify_items": null,
            "left": null,
            "margin": null,
            "max_height": null,
            "max_width": null,
            "min_height": null,
            "min_width": null,
            "object_fit": null,
            "object_position": null,
            "order": null,
            "overflow": null,
            "overflow_x": null,
            "overflow_y": null,
            "padding": null,
            "right": null,
            "top": null,
            "visibility": null,
            "width": null
          }
        },
        "167ccaf738694576a57acaa4ce37c951": {
          "model_module": "@jupyter-widgets/controls",
          "model_name": "SliderStyleModel",
          "model_module_version": "1.5.0",
          "state": {
            "_model_module": "@jupyter-widgets/controls",
            "_model_module_version": "1.5.0",
            "_model_name": "SliderStyleModel",
            "_view_count": null,
            "_view_module": "@jupyter-widgets/base",
            "_view_module_version": "1.2.0",
            "_view_name": "StyleView",
            "description_width": "",
            "handle_color": null
          }
        },
        "bd1882bc6f374c7ea5ed4b949b89cd1c": {
          "model_module": "@jupyter-widgets/base",
          "model_name": "LayoutModel",
          "model_module_version": "1.2.0",
          "state": {
            "_model_module": "@jupyter-widgets/base",
            "_model_module_version": "1.2.0",
            "_model_name": "LayoutModel",
            "_view_count": null,
            "_view_module": "@jupyter-widgets/base",
            "_view_module_version": "1.2.0",
            "_view_name": "LayoutView",
            "align_content": null,
            "align_items": null,
            "align_self": null,
            "border": null,
            "bottom": null,
            "display": null,
            "flex": null,
            "flex_flow": null,
            "grid_area": null,
            "grid_auto_columns": null,
            "grid_auto_flow": null,
            "grid_auto_rows": null,
            "grid_column": null,
            "grid_gap": null,
            "grid_row": null,
            "grid_template_areas": null,
            "grid_template_columns": null,
            "grid_template_rows": null,
            "height": null,
            "justify_content": null,
            "justify_items": null,
            "left": null,
            "margin": null,
            "max_height": null,
            "max_width": null,
            "min_height": null,
            "min_width": null,
            "object_fit": null,
            "object_position": null,
            "order": null,
            "overflow": null,
            "overflow_x": null,
            "overflow_y": null,
            "padding": null,
            "right": null,
            "top": null,
            "visibility": null,
            "width": null
          }
        },
        "3831588afac24432bd8d910df09739d5": {
          "model_module": "@jupyter-widgets/controls",
          "model_name": "SliderStyleModel",
          "model_module_version": "1.5.0",
          "state": {
            "_model_module": "@jupyter-widgets/controls",
            "_model_module_version": "1.5.0",
            "_model_name": "SliderStyleModel",
            "_view_count": null,
            "_view_module": "@jupyter-widgets/base",
            "_view_module_version": "1.2.0",
            "_view_name": "StyleView",
            "description_width": "",
            "handle_color": null
          }
        },
        "63edcae020714bc9ad562f0db7648084": {
          "model_module": "@jupyter-widgets/base",
          "model_name": "LayoutModel",
          "model_module_version": "1.2.0",
          "state": {
            "_model_module": "@jupyter-widgets/base",
            "_model_module_version": "1.2.0",
            "_model_name": "LayoutModel",
            "_view_count": null,
            "_view_module": "@jupyter-widgets/base",
            "_view_module_version": "1.2.0",
            "_view_name": "LayoutView",
            "align_content": null,
            "align_items": null,
            "align_self": null,
            "border": null,
            "bottom": null,
            "display": null,
            "flex": null,
            "flex_flow": null,
            "grid_area": null,
            "grid_auto_columns": null,
            "grid_auto_flow": null,
            "grid_auto_rows": null,
            "grid_column": null,
            "grid_gap": null,
            "grid_row": null,
            "grid_template_areas": null,
            "grid_template_columns": null,
            "grid_template_rows": null,
            "height": null,
            "justify_content": null,
            "justify_items": null,
            "left": null,
            "margin": null,
            "max_height": null,
            "max_width": null,
            "min_height": null,
            "min_width": null,
            "object_fit": null,
            "object_position": null,
            "order": null,
            "overflow": null,
            "overflow_x": null,
            "overflow_y": null,
            "padding": null,
            "right": null,
            "top": null,
            "visibility": null,
            "width": null
          }
        },
        "1d17398598fc4e7ba36bcd7a95c963b3": {
          "model_module": "@jupyter-widgets/controls",
          "model_name": "SliderStyleModel",
          "model_module_version": "1.5.0",
          "state": {
            "_model_module": "@jupyter-widgets/controls",
            "_model_module_version": "1.5.0",
            "_model_name": "SliderStyleModel",
            "_view_count": null,
            "_view_module": "@jupyter-widgets/base",
            "_view_module_version": "1.2.0",
            "_view_name": "StyleView",
            "description_width": "",
            "handle_color": null
          }
        },
        "1282ab08eb9847569f983907c1888f41": {
          "model_module": "@jupyter-widgets/base",
          "model_name": "LayoutModel",
          "model_module_version": "1.2.0",
          "state": {
            "_model_module": "@jupyter-widgets/base",
            "_model_module_version": "1.2.0",
            "_model_name": "LayoutModel",
            "_view_count": null,
            "_view_module": "@jupyter-widgets/base",
            "_view_module_version": "1.2.0",
            "_view_name": "LayoutView",
            "align_content": null,
            "align_items": null,
            "align_self": null,
            "border": null,
            "bottom": null,
            "display": null,
            "flex": null,
            "flex_flow": null,
            "grid_area": null,
            "grid_auto_columns": null,
            "grid_auto_flow": null,
            "grid_auto_rows": null,
            "grid_column": null,
            "grid_gap": null,
            "grid_row": null,
            "grid_template_areas": null,
            "grid_template_columns": null,
            "grid_template_rows": null,
            "height": null,
            "justify_content": null,
            "justify_items": null,
            "left": null,
            "margin": null,
            "max_height": null,
            "max_width": null,
            "min_height": null,
            "min_width": null,
            "object_fit": null,
            "object_position": null,
            "order": null,
            "overflow": null,
            "overflow_x": null,
            "overflow_y": null,
            "padding": null,
            "right": null,
            "top": null,
            "visibility": null,
            "width": null
          }
        },
        "6831e2a3b09249af8a7026de754ea5b8": {
          "model_module": "@jupyter-widgets/controls",
          "model_name": "SliderStyleModel",
          "model_module_version": "1.5.0",
          "state": {
            "_model_module": "@jupyter-widgets/controls",
            "_model_module_version": "1.5.0",
            "_model_name": "SliderStyleModel",
            "_view_count": null,
            "_view_module": "@jupyter-widgets/base",
            "_view_module_version": "1.2.0",
            "_view_name": "StyleView",
            "description_width": "",
            "handle_color": null
          }
        },
        "40365ba0e89b4c35a16517a4c16b3ae8": {
          "model_module": "@jupyter-widgets/base",
          "model_name": "LayoutModel",
          "model_module_version": "1.2.0",
          "state": {
            "_model_module": "@jupyter-widgets/base",
            "_model_module_version": "1.2.0",
            "_model_name": "LayoutModel",
            "_view_count": null,
            "_view_module": "@jupyter-widgets/base",
            "_view_module_version": "1.2.0",
            "_view_name": "LayoutView",
            "align_content": null,
            "align_items": null,
            "align_self": null,
            "border": null,
            "bottom": null,
            "display": null,
            "flex": null,
            "flex_flow": null,
            "grid_area": null,
            "grid_auto_columns": null,
            "grid_auto_flow": null,
            "grid_auto_rows": null,
            "grid_column": null,
            "grid_gap": null,
            "grid_row": null,
            "grid_template_areas": null,
            "grid_template_columns": null,
            "grid_template_rows": null,
            "height": null,
            "justify_content": null,
            "justify_items": null,
            "left": null,
            "margin": null,
            "max_height": null,
            "max_width": null,
            "min_height": null,
            "min_width": null,
            "object_fit": null,
            "object_position": null,
            "order": null,
            "overflow": null,
            "overflow_x": null,
            "overflow_y": null,
            "padding": null,
            "right": null,
            "top": null,
            "visibility": null,
            "width": null
          }
        },
        "f6ba65d596b14a53af36fca186e10b42": {
          "model_module": "@jupyter-widgets/controls",
          "model_name": "SliderStyleModel",
          "model_module_version": "1.5.0",
          "state": {
            "_model_module": "@jupyter-widgets/controls",
            "_model_module_version": "1.5.0",
            "_model_name": "SliderStyleModel",
            "_view_count": null,
            "_view_module": "@jupyter-widgets/base",
            "_view_module_version": "1.2.0",
            "_view_name": "StyleView",
            "description_width": "",
            "handle_color": null
          }
        },
        "c54d2428b6d048389cfaf373dc3737ce": {
          "model_module": "@jupyter-widgets/base",
          "model_name": "LayoutModel",
          "model_module_version": "1.2.0",
          "state": {
            "_model_module": "@jupyter-widgets/base",
            "_model_module_version": "1.2.0",
            "_model_name": "LayoutModel",
            "_view_count": null,
            "_view_module": "@jupyter-widgets/base",
            "_view_module_version": "1.2.0",
            "_view_name": "LayoutView",
            "align_content": null,
            "align_items": null,
            "align_self": null,
            "border": null,
            "bottom": null,
            "display": null,
            "flex": null,
            "flex_flow": null,
            "grid_area": null,
            "grid_auto_columns": null,
            "grid_auto_flow": null,
            "grid_auto_rows": null,
            "grid_column": null,
            "grid_gap": null,
            "grid_row": null,
            "grid_template_areas": null,
            "grid_template_columns": null,
            "grid_template_rows": null,
            "height": null,
            "justify_content": null,
            "justify_items": null,
            "left": null,
            "margin": null,
            "max_height": null,
            "max_width": null,
            "min_height": null,
            "min_width": null,
            "object_fit": null,
            "object_position": null,
            "order": null,
            "overflow": null,
            "overflow_x": null,
            "overflow_y": null,
            "padding": null,
            "right": null,
            "top": null,
            "visibility": null,
            "width": "500px"
          }
        },
        "eb86e75a204f44ff97267e788bd4ab4a": {
          "model_module": "@jupyter-widgets/controls",
          "model_name": "SliderStyleModel",
          "model_module_version": "1.5.0",
          "state": {
            "_model_module": "@jupyter-widgets/controls",
            "_model_module_version": "1.5.0",
            "_model_name": "SliderStyleModel",
            "_view_count": null,
            "_view_module": "@jupyter-widgets/base",
            "_view_module_version": "1.2.0",
            "_view_name": "StyleView",
            "description_width": "",
            "handle_color": null
          }
        },
        "df9109838c7b43618c675e315923f355": {
          "model_module": "@jupyter-widgets/base",
          "model_name": "LayoutModel",
          "model_module_version": "1.2.0",
          "state": {
            "_model_module": "@jupyter-widgets/base",
            "_model_module_version": "1.2.0",
            "_model_name": "LayoutModel",
            "_view_count": null,
            "_view_module": "@jupyter-widgets/base",
            "_view_module_version": "1.2.0",
            "_view_name": "LayoutView",
            "align_content": null,
            "align_items": null,
            "align_self": null,
            "border": null,
            "bottom": null,
            "display": null,
            "flex": null,
            "flex_flow": null,
            "grid_area": null,
            "grid_auto_columns": null,
            "grid_auto_flow": null,
            "grid_auto_rows": null,
            "grid_column": null,
            "grid_gap": null,
            "grid_row": null,
            "grid_template_areas": null,
            "grid_template_columns": null,
            "grid_template_rows": null,
            "height": null,
            "justify_content": null,
            "justify_items": null,
            "left": null,
            "margin": null,
            "max_height": null,
            "max_width": null,
            "min_height": null,
            "min_width": null,
            "object_fit": null,
            "object_position": null,
            "order": null,
            "overflow": null,
            "overflow_x": null,
            "overflow_y": null,
            "padding": null,
            "right": null,
            "top": null,
            "visibility": null,
            "width": null
          }
        },
        "47d8a2a2259a429a89a7ce56228c2b3f": {
          "model_module": "@jupyter-widgets/controls",
          "model_name": "VBoxModel",
          "model_module_version": "1.5.0",
          "state": {
            "_dom_classes": [],
            "_model_module": "@jupyter-widgets/controls",
            "_model_module_version": "1.5.0",
            "_model_name": "VBoxModel",
            "_view_count": null,
            "_view_module": "@jupyter-widgets/controls",
            "_view_module_version": "1.5.0",
            "_view_name": "VBoxView",
            "box_style": "",
            "children": [
              "IPY_MODEL_e824c207ad6f4581a29bfb1fec2a8566",
              "IPY_MODEL_f13abed3cdca43c0af0873746d744461"
            ],
            "layout": "IPY_MODEL_7b6950126bf14bbc93a6c92b4711fdbe"
          }
        },
        "e824c207ad6f4581a29bfb1fec2a8566": {
          "model_module": "@jupyter-widgets/controls",
          "model_name": "ToggleButtonsModel",
          "model_module_version": "1.5.0",
          "state": {
            "_dom_classes": [],
            "_model_module": "@jupyter-widgets/controls",
            "_model_module_version": "1.5.0",
            "_model_name": "ToggleButtonsModel",
            "_options_labels": [
              "Soma",
              "Apical tuft (proximal)"
            ],
            "_view_count": null,
            "_view_module": "@jupyter-widgets/controls",
            "_view_module_version": "1.5.0",
            "_view_name": "ToggleButtonsView",
            "button_style": "",
            "description": "",
            "description_tooltip": null,
            "disabled": false,
            "icons": [],
            "index": 0,
            "layout": "IPY_MODEL_fdd7e496674c44f99ddfbff5593be44b",
            "style": "IPY_MODEL_4ef043b1be92464b8503eea60e088722",
            "tooltips": []
          }
        },
        "f13abed3cdca43c0af0873746d744461": {
          "model_module": "@jupyter-widgets/controls",
          "model_name": "HBoxModel",
          "model_module_version": "1.5.0",
          "state": {
            "_dom_classes": [],
            "_model_module": "@jupyter-widgets/controls",
            "_model_module_version": "1.5.0",
            "_model_name": "HBoxModel",
            "_view_count": null,
            "_view_module": "@jupyter-widgets/controls",
            "_view_module_version": "1.5.0",
            "_view_name": "HBoxView",
            "box_style": "",
            "children": [
              "IPY_MODEL_e0b7e0e57146413cb561d42c7bbec7e4",
              "IPY_MODEL_5dbdd8f9ed914e7f84bd1a1db3c9b123"
            ],
            "layout": "IPY_MODEL_9d88c1c5f924443d91ac1eea3d45a2b0"
          }
        },
        "7b6950126bf14bbc93a6c92b4711fdbe": {
          "model_module": "@jupyter-widgets/base",
          "model_name": "LayoutModel",
          "model_module_version": "1.2.0",
          "state": {
            "_model_module": "@jupyter-widgets/base",
            "_model_module_version": "1.2.0",
            "_model_name": "LayoutModel",
            "_view_count": null,
            "_view_module": "@jupyter-widgets/base",
            "_view_module_version": "1.2.0",
            "_view_name": "LayoutView",
            "align_content": null,
            "align_items": null,
            "align_self": null,
            "border": null,
            "bottom": null,
            "display": null,
            "flex": null,
            "flex_flow": null,
            "grid_area": null,
            "grid_auto_columns": null,
            "grid_auto_flow": null,
            "grid_auto_rows": null,
            "grid_column": null,
            "grid_gap": null,
            "grid_row": null,
            "grid_template_areas": null,
            "grid_template_columns": null,
            "grid_template_rows": null,
            "height": null,
            "justify_content": null,
            "justify_items": null,
            "left": null,
            "margin": null,
            "max_height": null,
            "max_width": null,
            "min_height": null,
            "min_width": null,
            "object_fit": null,
            "object_position": null,
            "order": null,
            "overflow": null,
            "overflow_x": null,
            "overflow_y": null,
            "padding": null,
            "right": null,
            "top": null,
            "visibility": null,
            "width": null
          }
        },
        "fdd7e496674c44f99ddfbff5593be44b": {
          "model_module": "@jupyter-widgets/base",
          "model_name": "LayoutModel",
          "model_module_version": "1.2.0",
          "state": {
            "_model_module": "@jupyter-widgets/base",
            "_model_module_version": "1.2.0",
            "_model_name": "LayoutModel",
            "_view_count": null,
            "_view_module": "@jupyter-widgets/base",
            "_view_module_version": "1.2.0",
            "_view_name": "LayoutView",
            "align_content": null,
            "align_items": null,
            "align_self": null,
            "border": null,
            "bottom": null,
            "display": null,
            "flex": null,
            "flex_flow": null,
            "grid_area": null,
            "grid_auto_columns": null,
            "grid_auto_flow": null,
            "grid_auto_rows": null,
            "grid_column": null,
            "grid_gap": null,
            "grid_row": null,
            "grid_template_areas": null,
            "grid_template_columns": null,
            "grid_template_rows": null,
            "height": null,
            "justify_content": null,
            "justify_items": null,
            "left": null,
            "margin": null,
            "max_height": null,
            "max_width": null,
            "min_height": null,
            "min_width": null,
            "object_fit": null,
            "object_position": null,
            "order": null,
            "overflow": null,
            "overflow_x": null,
            "overflow_y": null,
            "padding": null,
            "right": null,
            "top": null,
            "visibility": null,
            "width": null
          }
        },
        "4ef043b1be92464b8503eea60e088722": {
          "model_module": "@jupyter-widgets/controls",
          "model_name": "ToggleButtonsStyleModel",
          "model_module_version": "1.5.0",
          "state": {
            "_model_module": "@jupyter-widgets/controls",
            "_model_module_version": "1.5.0",
            "_model_name": "ToggleButtonsStyleModel",
            "_view_count": null,
            "_view_module": "@jupyter-widgets/base",
            "_view_module_version": "1.2.0",
            "_view_name": "StyleView",
            "button_width": "",
            "description_width": "",
            "font_weight": ""
          }
        },
        "e0b7e0e57146413cb561d42c7bbec7e4": {
          "model_module": "@jupyter-widgets/controls",
          "model_name": "LabelModel",
          "model_module_version": "1.5.0",
          "state": {
            "_dom_classes": [],
            "_model_module": "@jupyter-widgets/controls",
            "_model_module_version": "1.5.0",
            "_model_name": "LabelModel",
            "_view_count": null,
            "_view_module": "@jupyter-widgets/controls",
            "_view_module_version": "1.5.0",
            "_view_name": "LabelView",
            "description": "",
            "description_tooltip": null,
            "layout": "IPY_MODEL_097b4e4b7a8545a7bfb8c8696aa952e7",
            "placeholder": "​",
            "style": "IPY_MODEL_4855d2d63d1a4b128409559266b75036",
            "value": "Synapse maximal conductance (uS)"
          }
        },
        "5dbdd8f9ed914e7f84bd1a1db3c9b123": {
          "model_module": "@jupyter-widgets/controls",
          "model_name": "FloatSliderModel",
          "model_module_version": "1.5.0",
          "state": {
            "_dom_classes": [],
            "_model_module": "@jupyter-widgets/controls",
            "_model_module_version": "1.5.0",
            "_model_name": "FloatSliderModel",
            "_view_count": null,
            "_view_module": "@jupyter-widgets/controls",
            "_view_module_version": "1.5.0",
            "_view_name": "FloatSliderView",
            "continuous_update": true,
            "description": "",
            "description_tooltip": null,
            "disabled": false,
            "layout": "IPY_MODEL_3b9b1d71671046a8871678a50cdf3396",
            "max": 0.1,
            "min": 0,
            "orientation": "horizontal",
            "readout": true,
            "readout_format": ".4f",
            "step": 0.0002,
            "style": "IPY_MODEL_2719887646ee487591d00d7181aae560",
            "value": 0.02
          }
        },
        "9d88c1c5f924443d91ac1eea3d45a2b0": {
          "model_module": "@jupyter-widgets/base",
          "model_name": "LayoutModel",
          "model_module_version": "1.2.0",
          "state": {
            "_model_module": "@jupyter-widgets/base",
            "_model_module_version": "1.2.0",
            "_model_name": "LayoutModel",
            "_view_count": null,
            "_view_module": "@jupyter-widgets/base",
            "_view_module_version": "1.2.0",
            "_view_name": "LayoutView",
            "align_content": null,
            "align_items": null,
            "align_self": null,
            "border": null,
            "bottom": null,
            "display": null,
            "flex": null,
            "flex_flow": null,
            "grid_area": null,
            "grid_auto_columns": null,
            "grid_auto_flow": null,
            "grid_auto_rows": null,
            "grid_column": null,
            "grid_gap": null,
            "grid_row": null,
            "grid_template_areas": null,
            "grid_template_columns": null,
            "grid_template_rows": null,
            "height": null,
            "justify_content": null,
            "justify_items": null,
            "left": null,
            "margin": null,
            "max_height": null,
            "max_width": null,
            "min_height": null,
            "min_width": null,
            "object_fit": null,
            "object_position": null,
            "order": null,
            "overflow": null,
            "overflow_x": null,
            "overflow_y": null,
            "padding": null,
            "right": null,
            "top": null,
            "visibility": null,
            "width": null
          }
        },
        "097b4e4b7a8545a7bfb8c8696aa952e7": {
          "model_module": "@jupyter-widgets/base",
          "model_name": "LayoutModel",
          "model_module_version": "1.2.0",
          "state": {
            "_model_module": "@jupyter-widgets/base",
            "_model_module_version": "1.2.0",
            "_model_name": "LayoutModel",
            "_view_count": null,
            "_view_module": "@jupyter-widgets/base",
            "_view_module_version": "1.2.0",
            "_view_name": "LayoutView",
            "align_content": null,
            "align_items": null,
            "align_self": null,
            "border": null,
            "bottom": null,
            "display": null,
            "flex": null,
            "flex_flow": null,
            "grid_area": null,
            "grid_auto_columns": null,
            "grid_auto_flow": null,
            "grid_auto_rows": null,
            "grid_column": null,
            "grid_gap": null,
            "grid_row": null,
            "grid_template_areas": null,
            "grid_template_columns": null,
            "grid_template_rows": null,
            "height": null,
            "justify_content": null,
            "justify_items": null,
            "left": null,
            "margin": null,
            "max_height": null,
            "max_width": null,
            "min_height": null,
            "min_width": null,
            "object_fit": null,
            "object_position": null,
            "order": null,
            "overflow": null,
            "overflow_x": null,
            "overflow_y": null,
            "padding": null,
            "right": null,
            "top": null,
            "visibility": null,
            "width": null
          }
        },
        "4855d2d63d1a4b128409559266b75036": {
          "model_module": "@jupyter-widgets/controls",
          "model_name": "DescriptionStyleModel",
          "model_module_version": "1.5.0",
          "state": {
            "_model_module": "@jupyter-widgets/controls",
            "_model_module_version": "1.5.0",
            "_model_name": "DescriptionStyleModel",
            "_view_count": null,
            "_view_module": "@jupyter-widgets/base",
            "_view_module_version": "1.2.0",
            "_view_name": "StyleView",
            "description_width": ""
          }
        },
        "3b9b1d71671046a8871678a50cdf3396": {
          "model_module": "@jupyter-widgets/base",
          "model_name": "LayoutModel",
          "model_module_version": "1.2.0",
          "state": {
            "_model_module": "@jupyter-widgets/base",
            "_model_module_version": "1.2.0",
            "_model_name": "LayoutModel",
            "_view_count": null,
            "_view_module": "@jupyter-widgets/base",
            "_view_module_version": "1.2.0",
            "_view_name": "LayoutView",
            "align_content": null,
            "align_items": null,
            "align_self": null,
            "border": null,
            "bottom": null,
            "display": null,
            "flex": null,
            "flex_flow": null,
            "grid_area": null,
            "grid_auto_columns": null,
            "grid_auto_flow": null,
            "grid_auto_rows": null,
            "grid_column": null,
            "grid_gap": null,
            "grid_row": null,
            "grid_template_areas": null,
            "grid_template_columns": null,
            "grid_template_rows": null,
            "height": null,
            "justify_content": null,
            "justify_items": null,
            "left": null,
            "margin": null,
            "max_height": null,
            "max_width": null,
            "min_height": null,
            "min_width": null,
            "object_fit": null,
            "object_position": null,
            "order": null,
            "overflow": null,
            "overflow_x": null,
            "overflow_y": null,
            "padding": null,
            "right": null,
            "top": null,
            "visibility": null,
            "width": null
          }
        },
        "2719887646ee487591d00d7181aae560": {
          "model_module": "@jupyter-widgets/controls",
          "model_name": "SliderStyleModel",
          "model_module_version": "1.5.0",
          "state": {
            "_model_module": "@jupyter-widgets/controls",
            "_model_module_version": "1.5.0",
            "_model_name": "SliderStyleModel",
            "_view_count": null,
            "_view_module": "@jupyter-widgets/base",
            "_view_module_version": "1.2.0",
            "_view_name": "StyleView",
            "description_width": "",
            "handle_color": null
          }
        }
      }
    }
  },
  "nbformat": 4,
  "nbformat_minor": 5
}